{
 "cells": [
  {
   "cell_type": "markdown",
   "id": "80dbe0b2",
   "metadata": {},
   "source": [
    "### Bayes Theorem\n",
    "    1. prob of event is proportional to prior prob\n",
    "    2. Naive bayes algo is a classification algo\n",
    "    3. comes under supervised learning\n",
    "    4. \n",
    "\n",
    "P(H/E) = P(E/H)*P(H) / P(E)"
   ]
  },
  {
   "cell_type": "code",
   "execution_count": null,
   "id": "71605caa",
   "metadata": {},
   "outputs": [],
   "source": []
  }
 ],
 "metadata": {
  "kernelspec": {
   "display_name": "Python 3 (ipykernel)",
   "language": "python",
   "name": "python3"
  },
  "language_info": {
   "codemirror_mode": {
    "name": "ipython",
    "version": 3
   },
   "file_extension": ".py",
   "mimetype": "text/x-python",
   "name": "python",
   "nbconvert_exporter": "python",
   "pygments_lexer": "ipython3",
   "version": "3.9.7"
  }
 },
 "nbformat": 4,
 "nbformat_minor": 5
}
