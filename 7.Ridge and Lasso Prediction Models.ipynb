{
 "cells": [
  {
   "cell_type": "code",
   "execution_count": 1,
   "id": "812eb09e",
   "metadata": {},
   "outputs": [],
   "source": [
    "# L1 Regularization Technique - lasso Regression\n",
    "# L2 Regularization Technique - Ridge Regression"
   ]
  },
  {
   "cell_type": "code",
   "execution_count": 2,
   "id": "c8e41563",
   "metadata": {},
   "outputs": [],
   "source": [
    "import numpy as np\n",
    "import pandas as pd"
   ]
  },
  {
   "cell_type": "code",
   "execution_count": 3,
   "id": "d855e4cc",
   "metadata": {},
   "outputs": [],
   "source": [
    "df = pd.read_csv('50_Startups.csv')"
   ]
  },
  {
   "cell_type": "code",
   "execution_count": 4,
   "id": "59bee729",
   "metadata": {},
   "outputs": [
    {
     "data": {
      "text/html": [
       "<div>\n",
       "<style scoped>\n",
       "    .dataframe tbody tr th:only-of-type {\n",
       "        vertical-align: middle;\n",
       "    }\n",
       "\n",
       "    .dataframe tbody tr th {\n",
       "        vertical-align: top;\n",
       "    }\n",
       "\n",
       "    .dataframe thead th {\n",
       "        text-align: right;\n",
       "    }\n",
       "</style>\n",
       "<table border=\"1\" class=\"dataframe\">\n",
       "  <thead>\n",
       "    <tr style=\"text-align: right;\">\n",
       "      <th></th>\n",
       "      <th>R&amp;D Spend</th>\n",
       "      <th>Administration</th>\n",
       "      <th>Marketing Spend</th>\n",
       "      <th>State</th>\n",
       "      <th>Profit</th>\n",
       "    </tr>\n",
       "  </thead>\n",
       "  <tbody>\n",
       "    <tr>\n",
       "      <th>0</th>\n",
       "      <td>165349.20</td>\n",
       "      <td>136897.80</td>\n",
       "      <td>471784.10</td>\n",
       "      <td>New York</td>\n",
       "      <td>192261.83</td>\n",
       "    </tr>\n",
       "    <tr>\n",
       "      <th>1</th>\n",
       "      <td>162597.70</td>\n",
       "      <td>151377.59</td>\n",
       "      <td>443898.53</td>\n",
       "      <td>California</td>\n",
       "      <td>191792.06</td>\n",
       "    </tr>\n",
       "    <tr>\n",
       "      <th>2</th>\n",
       "      <td>153441.51</td>\n",
       "      <td>101145.55</td>\n",
       "      <td>407934.54</td>\n",
       "      <td>Florida</td>\n",
       "      <td>191050.39</td>\n",
       "    </tr>\n",
       "    <tr>\n",
       "      <th>3</th>\n",
       "      <td>144372.41</td>\n",
       "      <td>118671.85</td>\n",
       "      <td>383199.62</td>\n",
       "      <td>New York</td>\n",
       "      <td>182901.99</td>\n",
       "    </tr>\n",
       "    <tr>\n",
       "      <th>4</th>\n",
       "      <td>142107.34</td>\n",
       "      <td>91391.77</td>\n",
       "      <td>366168.42</td>\n",
       "      <td>Florida</td>\n",
       "      <td>166187.94</td>\n",
       "    </tr>\n",
       "  </tbody>\n",
       "</table>\n",
       "</div>"
      ],
      "text/plain": [
       "   R&D Spend  Administration  Marketing Spend       State     Profit\n",
       "0  165349.20       136897.80        471784.10    New York  192261.83\n",
       "1  162597.70       151377.59        443898.53  California  191792.06\n",
       "2  153441.51       101145.55        407934.54     Florida  191050.39\n",
       "3  144372.41       118671.85        383199.62    New York  182901.99\n",
       "4  142107.34        91391.77        366168.42     Florida  166187.94"
      ]
     },
     "execution_count": 4,
     "metadata": {},
     "output_type": "execute_result"
    }
   ],
   "source": [
    "df.head()"
   ]
  },
  {
   "cell_type": "code",
   "execution_count": 5,
   "id": "9bef7209",
   "metadata": {},
   "outputs": [
    {
     "data": {
      "text/plain": [
       "(108, 5)"
      ]
     },
     "execution_count": 5,
     "metadata": {},
     "output_type": "execute_result"
    }
   ],
   "source": [
    "df.shape"
   ]
  },
  {
   "cell_type": "code",
   "execution_count": 6,
   "id": "e41bf0da",
   "metadata": {},
   "outputs": [],
   "source": [
    "from sklearn.preprocessing import LabelEncoder\n",
    "le = LabelEncoder()"
   ]
  },
  {
   "cell_type": "code",
   "execution_count": 7,
   "id": "bc0f88a1",
   "metadata": {},
   "outputs": [],
   "source": [
    "df.State = le.fit_transform(df.State)"
   ]
  },
  {
   "cell_type": "code",
   "execution_count": 8,
   "id": "7abe0446",
   "metadata": {},
   "outputs": [
    {
     "data": {
      "text/html": [
       "<div>\n",
       "<style scoped>\n",
       "    .dataframe tbody tr th:only-of-type {\n",
       "        vertical-align: middle;\n",
       "    }\n",
       "\n",
       "    .dataframe tbody tr th {\n",
       "        vertical-align: top;\n",
       "    }\n",
       "\n",
       "    .dataframe thead th {\n",
       "        text-align: right;\n",
       "    }\n",
       "</style>\n",
       "<table border=\"1\" class=\"dataframe\">\n",
       "  <thead>\n",
       "    <tr style=\"text-align: right;\">\n",
       "      <th></th>\n",
       "      <th>R&amp;D Spend</th>\n",
       "      <th>Administration</th>\n",
       "      <th>Marketing Spend</th>\n",
       "      <th>State</th>\n",
       "      <th>Profit</th>\n",
       "    </tr>\n",
       "  </thead>\n",
       "  <tbody>\n",
       "    <tr>\n",
       "      <th>0</th>\n",
       "      <td>165349.20</td>\n",
       "      <td>136897.80</td>\n",
       "      <td>471784.10</td>\n",
       "      <td>2</td>\n",
       "      <td>192261.83</td>\n",
       "    </tr>\n",
       "    <tr>\n",
       "      <th>1</th>\n",
       "      <td>162597.70</td>\n",
       "      <td>151377.59</td>\n",
       "      <td>443898.53</td>\n",
       "      <td>0</td>\n",
       "      <td>191792.06</td>\n",
       "    </tr>\n",
       "    <tr>\n",
       "      <th>2</th>\n",
       "      <td>153441.51</td>\n",
       "      <td>101145.55</td>\n",
       "      <td>407934.54</td>\n",
       "      <td>1</td>\n",
       "      <td>191050.39</td>\n",
       "    </tr>\n",
       "    <tr>\n",
       "      <th>3</th>\n",
       "      <td>144372.41</td>\n",
       "      <td>118671.85</td>\n",
       "      <td>383199.62</td>\n",
       "      <td>2</td>\n",
       "      <td>182901.99</td>\n",
       "    </tr>\n",
       "    <tr>\n",
       "      <th>4</th>\n",
       "      <td>142107.34</td>\n",
       "      <td>91391.77</td>\n",
       "      <td>366168.42</td>\n",
       "      <td>1</td>\n",
       "      <td>166187.94</td>\n",
       "    </tr>\n",
       "  </tbody>\n",
       "</table>\n",
       "</div>"
      ],
      "text/plain": [
       "   R&D Spend  Administration  Marketing Spend  State     Profit\n",
       "0  165349.20       136897.80        471784.10      2  192261.83\n",
       "1  162597.70       151377.59        443898.53      0  191792.06\n",
       "2  153441.51       101145.55        407934.54      1  191050.39\n",
       "3  144372.41       118671.85        383199.62      2  182901.99\n",
       "4  142107.34        91391.77        366168.42      1  166187.94"
      ]
     },
     "execution_count": 8,
     "metadata": {},
     "output_type": "execute_result"
    }
   ],
   "source": [
    "df.head()"
   ]
  },
  {
   "cell_type": "code",
   "execution_count": 9,
   "id": "b88a8d89",
   "metadata": {},
   "outputs": [
    {
     "data": {
      "text/html": [
       "<div>\n",
       "<style scoped>\n",
       "    .dataframe tbody tr th:only-of-type {\n",
       "        vertical-align: middle;\n",
       "    }\n",
       "\n",
       "    .dataframe tbody tr th {\n",
       "        vertical-align: top;\n",
       "    }\n",
       "\n",
       "    .dataframe thead th {\n",
       "        text-align: right;\n",
       "    }\n",
       "</style>\n",
       "<table border=\"1\" class=\"dataframe\">\n",
       "  <thead>\n",
       "    <tr style=\"text-align: right;\">\n",
       "      <th></th>\n",
       "      <th>R&amp;D Spend</th>\n",
       "      <th>Administration</th>\n",
       "      <th>Marketing Spend</th>\n",
       "      <th>State</th>\n",
       "    </tr>\n",
       "  </thead>\n",
       "  <tbody>\n",
       "    <tr>\n",
       "      <th>0</th>\n",
       "      <td>165349.20</td>\n",
       "      <td>136897.80</td>\n",
       "      <td>471784.10</td>\n",
       "      <td>2</td>\n",
       "    </tr>\n",
       "    <tr>\n",
       "      <th>1</th>\n",
       "      <td>162597.70</td>\n",
       "      <td>151377.59</td>\n",
       "      <td>443898.53</td>\n",
       "      <td>0</td>\n",
       "    </tr>\n",
       "    <tr>\n",
       "      <th>2</th>\n",
       "      <td>153441.51</td>\n",
       "      <td>101145.55</td>\n",
       "      <td>407934.54</td>\n",
       "      <td>1</td>\n",
       "    </tr>\n",
       "    <tr>\n",
       "      <th>3</th>\n",
       "      <td>144372.41</td>\n",
       "      <td>118671.85</td>\n",
       "      <td>383199.62</td>\n",
       "      <td>2</td>\n",
       "    </tr>\n",
       "    <tr>\n",
       "      <th>4</th>\n",
       "      <td>142107.34</td>\n",
       "      <td>91391.77</td>\n",
       "      <td>366168.42</td>\n",
       "      <td>1</td>\n",
       "    </tr>\n",
       "  </tbody>\n",
       "</table>\n",
       "</div>"
      ],
      "text/plain": [
       "   R&D Spend  Administration  Marketing Spend  State\n",
       "0  165349.20       136897.80        471784.10      2\n",
       "1  162597.70       151377.59        443898.53      0\n",
       "2  153441.51       101145.55        407934.54      1\n",
       "3  144372.41       118671.85        383199.62      2\n",
       "4  142107.34        91391.77        366168.42      1"
      ]
     },
     "execution_count": 9,
     "metadata": {},
     "output_type": "execute_result"
    }
   ],
   "source": [
    "## X and Y split\n",
    "\n",
    "X = df.drop(columns=['Profit'], axis=1)\n",
    "X.head()"
   ]
  },
  {
   "cell_type": "code",
   "execution_count": 10,
   "id": "6e0ed44d",
   "metadata": {},
   "outputs": [
    {
     "data": {
      "text/plain": [
       "0    192261.83\n",
       "1    191792.06\n",
       "2    191050.39\n",
       "3    182901.99\n",
       "4    166187.94\n",
       "Name: Profit, dtype: float64"
      ]
     },
     "execution_count": 10,
     "metadata": {},
     "output_type": "execute_result"
    }
   ],
   "source": [
    "Y = df['Profit']\n",
    "Y.head()"
   ]
  },
  {
   "cell_type": "code",
   "execution_count": 11,
   "id": "13b041bc",
   "metadata": {},
   "outputs": [],
   "source": [
    "from sklearn.preprocessing import MinMaxScaler\n",
    "scale = MinMaxScaler()"
   ]
  },
  {
   "cell_type": "code",
   "execution_count": 12,
   "id": "cb0a8c99",
   "metadata": {},
   "outputs": [
    {
     "data": {
      "text/html": [
       "<div>\n",
       "<style scoped>\n",
       "    .dataframe tbody tr th:only-of-type {\n",
       "        vertical-align: middle;\n",
       "    }\n",
       "\n",
       "    .dataframe tbody tr th {\n",
       "        vertical-align: top;\n",
       "    }\n",
       "\n",
       "    .dataframe thead th {\n",
       "        text-align: right;\n",
       "    }\n",
       "</style>\n",
       "<table border=\"1\" class=\"dataframe\">\n",
       "  <thead>\n",
       "    <tr style=\"text-align: right;\">\n",
       "      <th></th>\n",
       "      <th>R&amp;D Spend</th>\n",
       "      <th>Administration</th>\n",
       "      <th>Marketing Spend</th>\n",
       "      <th>State</th>\n",
       "    </tr>\n",
       "  </thead>\n",
       "  <tbody>\n",
       "    <tr>\n",
       "      <th>0</th>\n",
       "      <td>1.000000</td>\n",
       "      <td>0.651744</td>\n",
       "      <td>1.000000</td>\n",
       "      <td>1.0</td>\n",
       "    </tr>\n",
       "    <tr>\n",
       "      <th>1</th>\n",
       "      <td>0.983359</td>\n",
       "      <td>0.761972</td>\n",
       "      <td>0.940893</td>\n",
       "      <td>0.0</td>\n",
       "    </tr>\n",
       "    <tr>\n",
       "      <th>2</th>\n",
       "      <td>0.927985</td>\n",
       "      <td>0.379579</td>\n",
       "      <td>0.864664</td>\n",
       "      <td>0.5</td>\n",
       "    </tr>\n",
       "    <tr>\n",
       "      <th>3</th>\n",
       "      <td>0.873136</td>\n",
       "      <td>0.512998</td>\n",
       "      <td>0.812235</td>\n",
       "      <td>1.0</td>\n",
       "    </tr>\n",
       "    <tr>\n",
       "      <th>4</th>\n",
       "      <td>0.859438</td>\n",
       "      <td>0.305328</td>\n",
       "      <td>0.776136</td>\n",
       "      <td>0.5</td>\n",
       "    </tr>\n",
       "  </tbody>\n",
       "</table>\n",
       "</div>"
      ],
      "text/plain": [
       "   R&D Spend  Administration  Marketing Spend  State\n",
       "0   1.000000        0.651744         1.000000    1.0\n",
       "1   0.983359        0.761972         0.940893    0.0\n",
       "2   0.927985        0.379579         0.864664    0.5\n",
       "3   0.873136        0.512998         0.812235    1.0\n",
       "4   0.859438        0.305328         0.776136    0.5"
      ]
     },
     "execution_count": 12,
     "metadata": {},
     "output_type": "execute_result"
    }
   ],
   "source": [
    "X_scaled = pd.DataFrame(scale.fit_transform(X), columns = X.columns)\n",
    "X_scaled.head()"
   ]
  },
  {
   "cell_type": "code",
   "execution_count": 14,
   "id": "73c1da7e",
   "metadata": {},
   "outputs": [],
   "source": [
    "from sklearn.model_selection import train_test_split\n",
    "x_train, x_test, y_train, y_test = train_test_split(X_scaled,Y , test_size=0.2, random_state=0)"
   ]
  },
  {
   "cell_type": "code",
   "execution_count": 15,
   "id": "f1fdd877",
   "metadata": {},
   "outputs": [
    {
     "data": {
      "text/plain": [
       "((86, 4), (22, 4), (86,), (22,))"
      ]
     },
     "execution_count": 15,
     "metadata": {},
     "output_type": "execute_result"
    }
   ],
   "source": [
    "x_train.shape, x_test.shape, y_train.shape, y_test.shape"
   ]
  },
  {
   "cell_type": "markdown",
   "id": "763eeaa7",
   "metadata": {},
   "source": [
    "### Model Building"
   ]
  },
  {
   "cell_type": "code",
   "execution_count": 16,
   "id": "54bedb0d",
   "metadata": {},
   "outputs": [],
   "source": [
    "from sklearn.linear_model import Ridge\n",
    "from sklearn.linear_model import Lasso"
   ]
  },
  {
   "cell_type": "code",
   "execution_count": 17,
   "id": "123b5d06",
   "metadata": {},
   "outputs": [],
   "source": [
    "r = Ridge()\n",
    "l = Lasso()"
   ]
  },
  {
   "cell_type": "code",
   "execution_count": 18,
   "id": "fa96ff48",
   "metadata": {},
   "outputs": [
    {
     "data": {
      "text/plain": [
       "Ridge()"
      ]
     },
     "execution_count": 18,
     "metadata": {},
     "output_type": "execute_result"
    }
   ],
   "source": [
    "r.fit(x_train, y_train)"
   ]
  },
  {
   "cell_type": "code",
   "execution_count": 19,
   "id": "5012b21d",
   "metadata": {},
   "outputs": [
    {
     "data": {
      "text/plain": [
       "Lasso()"
      ]
     },
     "execution_count": 19,
     "metadata": {},
     "output_type": "execute_result"
    }
   ],
   "source": [
    "l.fit(x_train, y_train)"
   ]
  },
  {
   "cell_type": "code",
   "execution_count": 28,
   "id": "84cc861d",
   "metadata": {},
   "outputs": [
    {
     "data": {
      "text/plain": [
       "array([ 54556.32416702, 130017.92166782,  84687.15947095, 173295.2223158 ,\n",
       "       108917.94957822, 128735.89224253, 128736.35934265, 155951.19177423,\n",
       "       117814.48562718,  52712.59507338, 102790.3781561 , 119096.2726001 ,\n",
       "        54556.32416702, 124206.72612243,  88379.01243395, 126261.35613731,\n",
       "       126261.35613731,  98802.1865801 ,  74278.88209886, 141546.67661999,\n",
       "       145564.21281487, 150251.73759042])"
      ]
     },
     "execution_count": 28,
     "metadata": {},
     "output_type": "execute_result"
    }
   ],
   "source": [
    "# Prediction of x_test wrt ridge model\n",
    "\n",
    "pred1 = r.predict(x_test)\n",
    "\n",
    "pred1"
   ]
  },
  {
   "cell_type": "code",
   "execution_count": 30,
   "id": "103a35eb",
   "metadata": {},
   "outputs": [
    {
     "data": {
      "text/plain": [
       "array([109172.11701154, 162907.31389068, 100464.139996  , 167970.8492119 ,\n",
       "       122667.96190528,  49887.13653097,  96390.68310219, 143886.79143792,\n",
       "        85348.38393902, 188005.75965694, 183451.16760721, 157862.5695242 ,\n",
       "       127596.0763847 , 118725.97104944, 122667.96190528, 128736.35934265,\n",
       "       119096.2726001 , 127596.0763847 , 108917.94957822,  93971.40528091,\n",
       "        65903.04456747, 183451.16760721,  81352.03770302,  75188.38192378,\n",
       "        79135.42233855, 162907.31389068, 141546.67661999, 132321.48447687,\n",
       "        81352.03770302,  75752.10844107, 157862.5695242 , 145564.21281487,\n",
       "       130017.92166782, 132321.48447687, 188005.75965694,  97035.56715902,\n",
       "       104697.62664321, 117814.48562718, 128735.89224253, 128735.89224253,\n",
       "       114288.26358192,  93907.91802285, 114288.26358192,  98727.48396016,\n",
       "       150251.73759042, 128736.35934265,  68760.8213074 , 167970.8492119 ,\n",
       "        93971.40528091, 173295.2223158 , 145564.21281487,  78309.20334753,\n",
       "       107823.62811616, 102790.3781561 ,  54827.19961758, 117814.48562718,\n",
       "       132321.48447687,  97273.99281273,  80018.73204909, 118725.97104944,\n",
       "       126261.35613731, 100464.139996  ,  75752.10844107, 101844.97870947,\n",
       "        88379.01243395,  75188.38192378, 143886.79143792,  74278.88209886,\n",
       "       147350.73179913,  85348.38393902, 109172.11701154, 107823.62811616,\n",
       "       127596.0763847 , 155951.19177423,  54827.19961758,  73980.24907875,\n",
       "        49887.13653097,  84687.15947095, 124206.72612243,  69275.26210043,\n",
       "       147350.73179913, 141546.67661999, 104697.62664321, 101844.97870947,\n",
       "        52712.59507338,  69275.26210043])"
      ]
     },
     "execution_count": 30,
     "metadata": {},
     "output_type": "execute_result"
    }
   ],
   "source": [
    "#prediction of x_train wrt ridge model\n",
    "\n",
    "pred1_train = r.predict(x_train)\n",
    "pred1_train"
   ]
  },
  {
   "cell_type": "code",
   "execution_count": 32,
   "id": "975bc12e",
   "metadata": {},
   "outputs": [
    {
     "data": {
      "text/plain": [
       "array([ 48384.86814735, 134845.52354938,  76486.64641608, 181551.13594979,\n",
       "       112961.07382208, 134236.64101991, 129218.98004997, 160017.16104325,\n",
       "       116754.23112994,  46273.04713164, 102272.49339834, 115567.13437352,\n",
       "        48384.86814735, 119116.48630482,  88593.22703248, 127104.80005829,\n",
       "       127104.80005829,  90948.41312188,  58678.78647171, 146299.80323437,\n",
       "       149413.8490298 , 152502.10158276])"
      ]
     },
     "execution_count": 32,
     "metadata": {},
     "output_type": "execute_result"
    }
   ],
   "source": [
    "# Prediction of x_test wrt lasso model\n",
    "pred2 = l.predict(x_test)\n",
    "pred2"
   ]
  },
  {
   "cell_type": "code",
   "execution_count": 33,
   "id": "c9f80e30",
   "metadata": {},
   "outputs": [
    {
     "data": {
      "text/plain": [
       "array([110345.06847036, 171315.14087949,  98167.3495588 , 173976.20312604,\n",
       "       116391.72815898,  48721.24977913,  98703.60466908, 155799.50522602,\n",
       "        83170.9100649 , 193321.34343103, 188881.62393281, 163693.83927011,\n",
       "       129123.17340829, 116686.52466738, 116391.72815898, 129218.98004997,\n",
       "       115567.13437352, 129123.17340829, 112961.07382208,  97485.61160597,\n",
       "        60875.10406774, 188881.62393281,  75063.94710207,  70422.60445166,\n",
       "        75022.69207191, 171315.14087949, 146299.80323437, 131295.79320222,\n",
       "        75063.94710207,  70551.48514181, 163693.83927011, 149413.8490298 ,\n",
       "       134845.52354938, 131295.79320222, 193321.34343103,  89804.0356455 ,\n",
       "       102129.68691995, 116754.23112994, 134236.64101991, 134236.64101991,\n",
       "       110753.19950999,  91202.84834487, 110753.19950999,  98111.94129321,\n",
       "       152502.10158276, 129218.98004997,  64563.00320539, 173976.20312604,\n",
       "        97485.61160597, 181551.13594979, 149413.8490298 ,  71073.04408273,\n",
       "       114694.60730979, 102272.49339834,  48078.78069557, 116754.23112994,\n",
       "       131295.79320222,  99275.79340727,  75594.8808101 , 116686.52466738,\n",
       "       127104.80005829,  98167.3495588 ,  70551.48514181, 101635.22763052,\n",
       "        88593.22703248,  70422.60445166, 155799.50522602,  58678.78647171,\n",
       "       153722.46941771,  83170.9100649 , 110345.06847036, 114694.60730979,\n",
       "       129123.17340829, 160017.16104325,  48078.78069557,  66176.16936836,\n",
       "        48721.24977913,  76486.64641608, 119116.48630482,  64394.08722   ,\n",
       "       153722.46941771, 146299.80323437, 102129.68691995, 101635.22763052,\n",
       "        46273.04713164,  64394.08722   ])"
      ]
     },
     "execution_count": 33,
     "metadata": {},
     "output_type": "execute_result"
    }
   ],
   "source": [
    "# Prediction of x_train wrt lasso model\n",
    "\n",
    "pred2_train = l.predict(x_train)\n",
    "pred2_train"
   ]
  },
  {
   "cell_type": "code",
   "execution_count": 34,
   "id": "ea8d8af6",
   "metadata": {},
   "outputs": [
    {
     "data": {
      "text/html": [
       "<div>\n",
       "<style scoped>\n",
       "    .dataframe tbody tr th:only-of-type {\n",
       "        vertical-align: middle;\n",
       "    }\n",
       "\n",
       "    .dataframe tbody tr th {\n",
       "        vertical-align: top;\n",
       "    }\n",
       "\n",
       "    .dataframe thead th {\n",
       "        text-align: right;\n",
       "    }\n",
       "</style>\n",
       "<table border=\"1\" class=\"dataframe\">\n",
       "  <thead>\n",
       "    <tr style=\"text-align: right;\">\n",
       "      <th></th>\n",
       "      <th>Actual Profit</th>\n",
       "      <th>Ridge_pred</th>\n",
       "      <th>Lasso_pred</th>\n",
       "    </tr>\n",
       "  </thead>\n",
       "  <tbody>\n",
       "    <tr>\n",
       "      <th>84</th>\n",
       "      <td>64926.08</td>\n",
       "      <td>54556.324167</td>\n",
       "      <td>48384.868147</td>\n",
       "    </tr>\n",
       "    <tr>\n",
       "      <th>10</th>\n",
       "      <td>146121.95</td>\n",
       "      <td>130017.921668</td>\n",
       "      <td>134845.523549</td>\n",
       "    </tr>\n",
       "    <tr>\n",
       "      <th>75</th>\n",
       "      <td>90708.19</td>\n",
       "      <td>84687.159471</td>\n",
       "      <td>76486.646416</td>\n",
       "    </tr>\n",
       "    <tr>\n",
       "      <th>2</th>\n",
       "      <td>191050.39</td>\n",
       "      <td>173295.222316</td>\n",
       "      <td>181551.135950</td>\n",
       "    </tr>\n",
       "    <tr>\n",
       "      <th>24</th>\n",
       "      <td>108552.04</td>\n",
       "      <td>108917.949578</td>\n",
       "      <td>112961.073822</td>\n",
       "    </tr>\n",
       "  </tbody>\n",
       "</table>\n",
       "</div>"
      ],
      "text/plain": [
       "    Actual Profit     Ridge_pred     Lasso_pred\n",
       "84       64926.08   54556.324167   48384.868147\n",
       "10      146121.95  130017.921668  134845.523549\n",
       "75       90708.19   84687.159471   76486.646416\n",
       "2       191050.39  173295.222316  181551.135950\n",
       "24      108552.04  108917.949578  112961.073822"
      ]
     },
     "execution_count": 34,
     "metadata": {},
     "output_type": "execute_result"
    }
   ],
   "source": [
    "# Comparision btw ridge model prediction and lasso model prediction\n",
    "\n",
    "profit = pd.DataFrame({'Actual Profit': y_test,\n",
    "                       'Ridge_pred':pred1,\n",
    "                       'Lasso_pred':pred2})\n",
    "profit.head()"
   ]
  },
  {
   "cell_type": "code",
   "execution_count": 36,
   "id": "32e92216",
   "metadata": {},
   "outputs": [],
   "source": [
    "### Evaluating Ridge and Lasso Models"
   ]
  },
  {
   "cell_type": "code",
   "execution_count": 35,
   "id": "52b0508d",
   "metadata": {},
   "outputs": [],
   "source": [
    "from sklearn import metrics"
   ]
  },
  {
   "cell_type": "code",
   "execution_count": 40,
   "id": "05f7e977",
   "metadata": {},
   "outputs": [
    {
     "name": "stdout",
     "output_type": "stream",
     "text": [
      "0.9095565216441845\n",
      "0.9259035724996549\n"
     ]
    }
   ],
   "source": [
    "# r2 score\n",
    "print(metrics.r2_score(y_test, pred1)) # Ridge Model\n",
    "print(metrics.r2_score(y_test, pred2)) # Lasso Model"
   ]
  },
  {
   "cell_type": "code",
   "execution_count": 41,
   "id": "1b390ba4",
   "metadata": {},
   "outputs": [
    {
     "name": "stdout",
     "output_type": "stream",
     "text": [
      "10825.266082933198\n",
      "9798.25158543825\n"
     ]
    }
   ],
   "source": [
    "# rmse\n",
    "\n",
    "# Ridge Model\n",
    "print(np.sqrt(metrics.mean_squared_error(y_test, pred1)))\n",
    "\n",
    "# Lasso Model\n",
    "print(np.sqrt(metrics.mean_squared_error(y_test, pred2)))"
   ]
  },
  {
   "cell_type": "code",
   "execution_count": null,
   "id": "52924e43",
   "metadata": {},
   "outputs": [],
   "source": []
  }
 ],
 "metadata": {
  "kernelspec": {
   "display_name": "Python 3 (ipykernel)",
   "language": "python",
   "name": "python3"
  },
  "language_info": {
   "codemirror_mode": {
    "name": "ipython",
    "version": 3
   },
   "file_extension": ".py",
   "mimetype": "text/x-python",
   "name": "python",
   "nbconvert_exporter": "python",
   "pygments_lexer": "ipython3",
   "version": "3.9.7"
  }
 },
 "nbformat": 4,
 "nbformat_minor": 5
}
