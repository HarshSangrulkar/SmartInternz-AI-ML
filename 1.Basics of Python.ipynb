{
 "cells": [
  {
   "cell_type": "markdown",
   "id": "3c6c4474",
   "metadata": {},
   "source": [
    "Basics of Python"
   ]
  },
  {
   "cell_type": "code",
   "execution_count": 1,
   "id": "e1b6da89",
   "metadata": {},
   "outputs": [
    {
     "name": "stdout",
     "output_type": "stream",
     "text": [
      "Harsh Sangrulkar\n"
     ]
    }
   ],
   "source": [
    "print(\"Harsh Sangrulkar\")"
   ]
  },
  {
   "cell_type": "code",
   "execution_count": 2,
   "id": "a14f5b08",
   "metadata": {},
   "outputs": [
    {
     "data": {
      "text/plain": [
       "10"
      ]
     },
     "execution_count": 2,
     "metadata": {},
     "output_type": "execute_result"
    }
   ],
   "source": [
    "5+5"
   ]
  },
  {
   "cell_type": "code",
   "execution_count": 3,
   "id": "77d61aef",
   "metadata": {},
   "outputs": [
    {
     "name": "stdout",
     "output_type": "stream",
     "text": [
      "['False', 'None', 'True', '__peg_parser__', 'and', 'as', 'assert', 'async', 'await', 'break', 'class', 'continue', 'def', 'del', 'elif', 'else', 'except', 'finally', 'for', 'from', 'global', 'if', 'import', 'in', 'is', 'lambda', 'nonlocal', 'not', 'or', 'pass', 'raise', 'return', 'try', 'while', 'with', 'yield']\n"
     ]
    }
   ],
   "source": [
    "import keyword\n",
    "print(keyword.kwlist)"
   ]
  },
  {
   "cell_type": "code",
   "execution_count": 4,
   "id": "c9e514dd",
   "metadata": {},
   "outputs": [],
   "source": [
    "name='Harsh'\n",
    "age=20"
   ]
  },
  {
   "cell_type": "code",
   "execution_count": 5,
   "id": "2c38eb0e",
   "metadata": {},
   "outputs": [
    {
     "data": {
      "text/plain": [
       "str"
      ]
     },
     "execution_count": 5,
     "metadata": {},
     "output_type": "execute_result"
    }
   ],
   "source": [
    "type(name)\n"
   ]
  },
  {
   "cell_type": "code",
   "execution_count": 6,
   "id": "bcba1dad",
   "metadata": {},
   "outputs": [
    {
     "data": {
      "text/plain": [
       "int"
      ]
     },
     "execution_count": 6,
     "metadata": {},
     "output_type": "execute_result"
    }
   ],
   "source": [
    "type(age)"
   ]
  },
  {
   "cell_type": "code",
   "execution_count": 7,
   "id": "8a7941e0",
   "metadata": {},
   "outputs": [
    {
     "data": {
      "text/plain": [
       "complex"
      ]
     },
     "execution_count": 7,
     "metadata": {},
     "output_type": "execute_result"
    }
   ],
   "source": [
    "num=56+98j\n",
    "type(num)"
   ]
  },
  {
   "cell_type": "markdown",
   "id": "23a1919e",
   "metadata": {},
   "source": [
    "accept=True\n",
    "type(accept)"
   ]
  },
  {
   "cell_type": "markdown",
   "id": "f29591b1",
   "metadata": {},
   "source": [
    "Tuples"
   ]
  },
  {
   "cell_type": "code",
   "execution_count": 8,
   "id": "094c4700",
   "metadata": {},
   "outputs": [],
   "source": [
    "#similar to lists\n",
    "#sequential\n",
    "#indexing\n",
    "#slicing is allowed\n",
    "#duplicates are allowes\n",
    "#immuatable - cannot be modified"
   ]
  },
  {
   "cell_type": "code",
   "execution_count": 9,
   "id": "9817c222",
   "metadata": {},
   "outputs": [],
   "source": [
    "tup = (1,'Harsh',12.34)"
   ]
  },
  {
   "cell_type": "code",
   "execution_count": 10,
   "id": "1c0b3f7e",
   "metadata": {},
   "outputs": [
    {
     "data": {
      "text/plain": [
       "(1, 'Harsh', 12.34)"
      ]
     },
     "execution_count": 10,
     "metadata": {},
     "output_type": "execute_result"
    }
   ],
   "source": [
    "tup"
   ]
  },
  {
   "cell_type": "code",
   "execution_count": 11,
   "id": "ad53e8cc",
   "metadata": {},
   "outputs": [
    {
     "data": {
      "text/plain": [
       "'Harsh'"
      ]
     },
     "execution_count": 11,
     "metadata": {},
     "output_type": "execute_result"
    }
   ],
   "source": [
    "#indexing\n",
    "\n",
    "#starts from 0\n",
    "\n",
    "tup[1]"
   ]
  },
  {
   "cell_type": "code",
   "execution_count": 12,
   "id": "9909029b",
   "metadata": {},
   "outputs": [
    {
     "data": {
      "text/plain": [
       "12.34"
      ]
     },
     "execution_count": 12,
     "metadata": {},
     "output_type": "execute_result"
    }
   ],
   "source": [
    "tup[2]"
   ]
  },
  {
   "cell_type": "code",
   "execution_count": 13,
   "id": "d8960e30",
   "metadata": {},
   "outputs": [
    {
     "name": "stdout",
     "output_type": "stream",
     "text": [
      "12.34\n"
     ]
    }
   ],
   "source": [
    "print(tup[2])"
   ]
  },
  {
   "cell_type": "code",
   "execution_count": 14,
   "id": "784dd1a1",
   "metadata": {},
   "outputs": [
    {
     "name": "stdout",
     "output_type": "stream",
     "text": [
      "Harsh\n"
     ]
    }
   ],
   "source": [
    "print(tup[1])"
   ]
  },
  {
   "cell_type": "code",
   "execution_count": 15,
   "id": "b2748aa5",
   "metadata": {},
   "outputs": [
    {
     "data": {
      "text/plain": [
       "('Harsh', 12.34)"
      ]
     },
     "execution_count": 15,
     "metadata": {},
     "output_type": "execute_result"
    }
   ],
   "source": [
    "tup[1:3]"
   ]
  },
  {
   "cell_type": "code",
   "execution_count": 16,
   "id": "695fc2eb",
   "metadata": {},
   "outputs": [],
   "source": [
    "#allows duplicates\n",
    "tup1 = (1,'Harsh',12.34,1,1)"
   ]
  },
  {
   "cell_type": "code",
   "execution_count": 17,
   "id": "f3172aeb",
   "metadata": {},
   "outputs": [
    {
     "data": {
      "text/plain": [
       "(1, 'Harsh', 12.34, 1, 1)"
      ]
     },
     "execution_count": 17,
     "metadata": {},
     "output_type": "execute_result"
    }
   ],
   "source": [
    "tup1"
   ]
  },
  {
   "cell_type": "code",
   "execution_count": 18,
   "id": "ec868ba4",
   "metadata": {},
   "outputs": [],
   "source": [
    "#immuatable"
   ]
  },
  {
   "cell_type": "code",
   "execution_count": 19,
   "id": "ed9532b2",
   "metadata": {},
   "outputs": [],
   "source": [
    "#tup1[1]='Hash'"
   ]
  },
  {
   "cell_type": "markdown",
   "id": "f5d9ca90",
   "metadata": {},
   "source": [
    "Set"
   ]
  },
  {
   "cell_type": "markdown",
   "id": "768faa0b",
   "metadata": {},
   "source": [
    "Properties\n",
    "1. doesn't allow duplicates\n",
    "2. unordered\n",
    "3. no indexing\n",
    "4. no slicing\n",
    "5. immutable"
   ]
  },
  {
   "cell_type": "code",
   "execution_count": 20,
   "id": "6bebf3b0",
   "metadata": {},
   "outputs": [],
   "source": [
    "st = {1,1,'Ass','Bum','Gand',23,45,'Arey bas karr','yeh last'}"
   ]
  },
  {
   "cell_type": "code",
   "execution_count": 21,
   "id": "baf36b65",
   "metadata": {},
   "outputs": [
    {
     "data": {
      "text/plain": [
       "{1, 23, 45, 'Arey bas karr', 'Ass', 'Bum', 'Gand', 'yeh last'}"
      ]
     },
     "execution_count": 21,
     "metadata": {},
     "output_type": "execute_result"
    }
   ],
   "source": [
    "st"
   ]
  },
  {
   "cell_type": "code",
   "execution_count": 23,
   "id": "d81bb2bb",
   "metadata": {},
   "outputs": [],
   "source": [
    "#st[1]"
   ]
  },
  {
   "cell_type": "markdown",
   "id": "5431d3d4",
   "metadata": {},
   "source": [
    "Dictionary\n",
    "\n",
    "Properties\n",
    "1. key:value\n",
    "2. un ordered collection"
   ]
  },
  {
   "cell_type": "code",
   "execution_count": 24,
   "id": "c5a2b8dd",
   "metadata": {},
   "outputs": [
    {
     "data": {
      "text/plain": [
       "{1: ['Apple', 'Annar'], 2: 'Banana', 3: 'Cat'}"
      ]
     },
     "execution_count": 24,
     "metadata": {},
     "output_type": "execute_result"
    }
   ],
   "source": [
    "dict_1 = {\n",
    "    1:['Apple','Annar'],\n",
    "    2:'Banana',\n",
    "    3:'Cat'\n",
    "}\n",
    "dict_1"
   ]
  },
  {
   "cell_type": "code",
   "execution_count": 25,
   "id": "1218c532",
   "metadata": {},
   "outputs": [
    {
     "data": {
      "text/plain": [
       "dict"
      ]
     },
     "execution_count": 25,
     "metadata": {},
     "output_type": "execute_result"
    }
   ],
   "source": [
    "type(dict_1)"
   ]
  },
  {
   "cell_type": "code",
   "execution_count": 26,
   "id": "30fe08d9",
   "metadata": {},
   "outputs": [
    {
     "data": {
      "text/plain": [
       "{1: 'Awesome', 2: 'Banana', 3: 'Cat'}"
      ]
     },
     "execution_count": 26,
     "metadata": {},
     "output_type": "execute_result"
    }
   ],
   "source": [
    "dict_2 = {\n",
    "    1:['Apple','Annar'],\n",
    "    2:'Banana',\n",
    "    3:'Cat',\n",
    "    1:'Awesome'\n",
    "}\n",
    "dict_2"
   ]
  },
  {
   "cell_type": "code",
   "execution_count": null,
   "id": "ff03030f",
   "metadata": {},
   "outputs": [],
   "source": [
    "dict_3 = {\n",
    "    1:['Apple','Annar'],\n",
    "    2:'Banana',\n",
    "    3:'Cat',\n",
    "    1:'Awesome',\n",
    "    [1,2]:'Not Allowed'\n",
    "}\n",
    "dict_3"
   ]
  },
  {
   "cell_type": "code",
   "execution_count": null,
   "id": "083334ad",
   "metadata": {},
   "outputs": [],
   "source": [
    "dict_1"
   ]
  },
  {
   "cell_type": "code",
   "execution_count": null,
   "id": "0b17bb82",
   "metadata": {},
   "outputs": [],
   "source": [
    "dict_1.keys()"
   ]
  },
  {
   "cell_type": "code",
   "execution_count": null,
   "id": "65c432a8",
   "metadata": {},
   "outputs": [],
   "source": [
    "dict_1.values()"
   ]
  },
  {
   "cell_type": "code",
   "execution_count": null,
   "id": "8aade0b5",
   "metadata": {},
   "outputs": [],
   "source": [
    "dict_1[3]"
   ]
  },
  {
   "cell_type": "code",
   "execution_count": null,
   "id": "d125ae12",
   "metadata": {},
   "outputs": [],
   "source": [
    "dict_1.items()"
   ]
  },
  {
   "cell_type": "code",
   "execution_count": null,
   "id": "1982df13",
   "metadata": {},
   "outputs": [],
   "source": [
    "dict_1[2]='Bat'"
   ]
  },
  {
   "cell_type": "code",
   "execution_count": null,
   "id": "5c1f3220",
   "metadata": {},
   "outputs": [],
   "source": [
    "dict_1"
   ]
  },
  {
   "cell_type": "code",
   "execution_count": null,
   "id": "25c698b7",
   "metadata": {},
   "outputs": [],
   "source": [
    "type(dict_1[2])"
   ]
  },
  {
   "cell_type": "code",
   "execution_count": null,
   "id": "fbdea018",
   "metadata": {},
   "outputs": [],
   "source": [
    "type(dict_1[1])"
   ]
  },
  {
   "cell_type": "code",
   "execution_count": null,
   "id": "cea72ea8",
   "metadata": {},
   "outputs": [],
   "source": [
    "dict_4 = {\n",
    "    1:['Apple','Annar'],\n",
    "    2:'Banana',\n",
    "    3:'Cat',\n",
    "    'name':['H','a','r','s','h']\n",
    "}\n",
    "dict_4"
   ]
  },
  {
   "cell_type": "code",
   "execution_count": null,
   "id": "b83d88a6",
   "metadata": {},
   "outputs": [],
   "source": [
    "dict_4['name']"
   ]
  },
  {
   "cell_type": "code",
   "execution_count": null,
   "id": "bb6a82a1",
   "metadata": {},
   "outputs": [],
   "source": [
    "dict_4['name'][2:4]"
   ]
  },
  {
   "cell_type": "code",
   "execution_count": null,
   "id": "1fea888b",
   "metadata": {},
   "outputs": [],
   "source": [
    "dict_4['name'][2:5:-1]"
   ]
  },
  {
   "cell_type": "code",
   "execution_count": null,
   "id": "cb0b4d76",
   "metadata": {},
   "outputs": [],
   "source": [
    "dict_4['name'][-2:]"
   ]
  },
  {
   "cell_type": "code",
   "execution_count": null,
   "id": "5d196909",
   "metadata": {},
   "outputs": [],
   "source": [
    "del dict_2"
   ]
  },
  {
   "cell_type": "code",
   "execution_count": null,
   "id": "710cd981",
   "metadata": {},
   "outputs": [],
   "source": [
    "dict_2"
   ]
  },
  {
   "cell_type": "code",
   "execution_count": null,
   "id": "e8899531",
   "metadata": {},
   "outputs": [],
   "source": [
    "dict_4['name'][:-1]"
   ]
  },
  {
   "cell_type": "code",
   "execution_count": null,
   "id": "478e0f31",
   "metadata": {},
   "outputs": [],
   "source": [
    "dict_4['name'][: :2]"
   ]
  },
  {
   "cell_type": "code",
   "execution_count": null,
   "id": "956f817d",
   "metadata": {},
   "outputs": [],
   "source": [
    "dict_4['name'][5:0:-1]"
   ]
  },
  {
   "cell_type": "code",
   "execution_count": null,
   "id": "163fdc95",
   "metadata": {},
   "outputs": [],
   "source": [
    "dict_4['name'][4::-1]"
   ]
  },
  {
   "cell_type": "code",
   "execution_count": null,
   "id": "b3725df0",
   "metadata": {},
   "outputs": [],
   "source": [
    "type(dict_4['name'])"
   ]
  },
  {
   "cell_type": "markdown",
   "id": "0dcd6c4f",
   "metadata": {},
   "source": [
    "Condition Statements"
   ]
  },
  {
   "cell_type": "code",
   "execution_count": null,
   "id": "3f81a17c",
   "metadata": {},
   "outputs": [],
   "source": [
    "a=10\n",
    "if a>9:\n",
    "    print(a)"
   ]
  },
  {
   "cell_type": "code",
   "execution_count": null,
   "id": "241ef367",
   "metadata": {},
   "outputs": [],
   "source": [
    "a=int(input('Enter value of a'))\n",
    "if a>9:\n",
    "    print(a)"
   ]
  },
  {
   "cell_type": "code",
   "execution_count": null,
   "id": "b08d499d",
   "metadata": {},
   "outputs": [],
   "source": [
    "a=int(input('Enter value of a '))\n",
    "if a>9:\n",
    "    print('the value entered by user is {}'.format(a))"
   ]
  },
  {
   "cell_type": "code",
   "execution_count": null,
   "id": "a7540e19",
   "metadata": {},
   "outputs": [],
   "source": [
    "a=input('Enter your name')\n",
    "b=input('Enter your age')\n",
    "\n",
    "print('My name is ',a,' and my age is',b)"
   ]
  },
  {
   "cell_type": "code",
   "execution_count": null,
   "id": "49e16f2c",
   "metadata": {},
   "outputs": [],
   "source": [
    "a=input('Enter your name')\n",
    "b=input('Enter your age')\n",
    "\n",
    "print('My name is {} and my age is {}'.format(a,b))"
   ]
  },
  {
   "cell_type": "code",
   "execution_count": null,
   "id": "6867265a",
   "metadata": {},
   "outputs": [],
   "source": [
    "a=input('Enter your name')\n",
    "b=input('Enter your age')\n",
    "\n",
    "print(f\"My name is {a} and my age is {b}\")"
   ]
  },
  {
   "cell_type": "code",
   "execution_count": null,
   "id": "f15f8619",
   "metadata": {},
   "outputs": [],
   "source": [
    "a=input('Enter your name')\n",
    "b=input('Enter your age')\n",
    "\n",
    "print('My name is '+a+' and my age is '+b)"
   ]
  },
  {
   "cell_type": "code",
   "execution_count": null,
   "id": "b4f952b4",
   "metadata": {},
   "outputs": [],
   "source": [
    "a=int(input('Enter a number'))\n",
    "if a>9:\n",
    "    print('The number you entered is {} and is greater than 9'.format(a))\n",
    "else:\n",
    "    print('Number entered is smaller than 9')"
   ]
  },
  {
   "cell_type": "code",
   "execution_count": null,
   "id": "909f834d",
   "metadata": {},
   "outputs": [],
   "source": [
    "a=int(input('Enter a number'))\n",
    "if a>9:\n",
    "    print('The number you entered is {} and is greater than 9'.format(a))\n",
    "elif a==9:\n",
    "    print('The number you entered is {} and is equal to 9'.format(a))\n",
    "else:\n",
    "    print('Number entered is smaller than 9')"
   ]
  },
  {
   "cell_type": "markdown",
   "id": "29465d03",
   "metadata": {},
   "source": [
    "Loops"
   ]
  },
  {
   "cell_type": "code",
   "execution_count": null,
   "id": "733420fd",
   "metadata": {},
   "outputs": [],
   "source": [
    "dict_1.values()"
   ]
  },
  {
   "cell_type": "code",
   "execution_count": null,
   "id": "3f59c174",
   "metadata": {},
   "outputs": [],
   "source": [
    "for i in range(0,10):\n",
    "    if i==4:\n",
    "        break\n",
    "    print(i)"
   ]
  },
  {
   "cell_type": "code",
   "execution_count": null,
   "id": "1d29f529",
   "metadata": {},
   "outputs": [],
   "source": []
  },
  {
   "cell_type": "code",
   "execution_count": null,
   "id": "607613dd",
   "metadata": {},
   "outputs": [],
   "source": []
  },
  {
   "cell_type": "code",
   "execution_count": null,
   "id": "a69c2304",
   "metadata": {},
   "outputs": [],
   "source": []
  },
  {
   "cell_type": "code",
   "execution_count": null,
   "id": "a9ec1f8f",
   "metadata": {},
   "outputs": [],
   "source": []
  }
 ],
 "metadata": {
  "kernelspec": {
   "display_name": "Python 3 (ipykernel)",
   "language": "python",
   "name": "python3"
  },
  "language_info": {
   "codemirror_mode": {
    "name": "ipython",
    "version": 3
   },
   "file_extension": ".py",
   "mimetype": "text/x-python",
   "name": "python",
   "nbconvert_exporter": "python",
   "pygments_lexer": "ipython3",
   "version": "3.9.7"
  }
 },
 "nbformat": 4,
 "nbformat_minor": 5
}
