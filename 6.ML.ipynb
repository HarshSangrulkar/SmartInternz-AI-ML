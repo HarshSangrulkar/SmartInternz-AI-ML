{
 "cells": [
  {
   "cell_type": "markdown",
   "id": "041be33a",
   "metadata": {},
   "source": [
    "### Types of Machine Learning\n",
    "\n",
    "#### 1. Supervised ML\n",
    "Supervised learning involves using labeled datasets to train algorithms for accurate classification or outcome prediction.\n",
    "#### 2. UnSupervised ML\n",
    "It utilizes unlabeled and unclassified datasets to make predictions without human intervention.\n",
    "#### 3. Semi-Supervised ML\n",
    "It allows machines to learn from all the available data by utilizing both supervised and unsupervised learning advantages. \n",
    "#### 4. Reinforcement ML\n",
    "Reinforcement learning is a machine learning technique where an agent learns to take optimal actions through environmental feedback."
   ]
  },
  {
   "cell_type": "code",
   "execution_count": null,
   "id": "9b4e8a85",
   "metadata": {},
   "outputs": [],
   "source": []
  }
 ],
 "metadata": {
  "kernelspec": {
   "display_name": "Python 3 (ipykernel)",
   "language": "python",
   "name": "python3"
  },
  "language_info": {
   "codemirror_mode": {
    "name": "ipython",
    "version": 3
   },
   "file_extension": ".py",
   "mimetype": "text/x-python",
   "name": "python",
   "nbconvert_exporter": "python",
   "pygments_lexer": "ipython3",
   "version": "3.9.7"
  }
 },
 "nbformat": 4,
 "nbformat_minor": 5
}
